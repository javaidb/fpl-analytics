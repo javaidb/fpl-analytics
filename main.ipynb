{
 "cells": [
  {
   "cell_type": "code",
   "execution_count": 1,
   "metadata": {},
   "outputs": [
    {
     "name": "stdout",
     "output_type": "stream",
     "text": [
      "\n",
      "<Expedited Build>: Compiling initial dataframes from FPL API requests...\n",
      "\n",
      "<Expedited Build>: Scanning all players to compile master dataframe...\n"
     ]
    },
    {
     "data": {
      "application/vnd.jupyter.widget-view+json": {
       "model_id": "c7fb6de76ad24f0b93b41e169d291320",
       "version_major": 2,
       "version_minor": 0
      },
      "text/plain": [
       "  0%|          | 0/783 [00:00<?, ?it/s]"
      ]
     },
     "metadata": {},
     "output_type": "display_data"
    },
    {
     "name": "stdout",
     "output_type": "stream",
     "text": [
      "Exported total_summary!\n"
     ]
    }
   ],
   "source": [
    "from src.functions.fpl_api_operations import FPLApiParser\n",
    "from src.functions.fpl_data_parser import DataParser\n",
    "\n",
    "api_parser = FPLApiParser()\n",
    "data_parser = DataParser(api_parser)\n",
    "\n",
    "# api_parser.compile_dataframes()\n",
    "# data_parser.parse_data()\n",
    "# parsed_data = data_parser.total_summary"
   ]
  },
  {
   "cell_type": "code",
   "execution_count": 2,
   "metadata": {},
   "outputs": [],
   "source": [
    "# from src.config import config\n",
    "# import requests\n",
    "# base_url = config.BASE_URL + 'leagues-classic/' + str(467038) + '/standings/'\n",
    "# r = requests.get(base_url).json()"
   ]
  },
  {
   "cell_type": "code",
   "execution_count": 4,
   "metadata": {},
   "outputs": [],
   "source": [
    "data_parser.total_summary"
   ]
  },
  {
   "cell_type": "code",
   "execution_count": null,
   "metadata": {},
   "outputs": [],
   "source": []
  }
 ],
 "metadata": {
  "kernelspec": {
   "display_name": "Python 3 (ipykernel)",
   "language": "python",
   "name": "python3"
  },
  "language_info": {
   "codemirror_mode": {
    "name": "ipython",
    "version": 3
   },
   "file_extension": ".py",
   "mimetype": "text/x-python",
   "name": "python",
   "nbconvert_exporter": "python",
   "pygments_lexer": "ipython3",
   "version": "3.7.1"
  }
 },
 "nbformat": 4,
 "nbformat_minor": 2
}
