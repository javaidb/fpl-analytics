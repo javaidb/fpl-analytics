{
 "cells": [
  {
   "cell_type": "code",
   "execution_count": 1,
   "metadata": {
    "scrolled": true
   },
   "outputs": [
    {
     "data": {
      "application/vnd.jupyter.widget-view+json": {
       "model_id": "fa248574962e45bea6d6aaecb968f2ce",
       "version_major": 2,
       "version_minor": 0
      },
      "text/plain": [
       "Raw Data:   0%|          | 0/808 [00:00<?, ?it/s]"
      ]
     },
     "metadata": {},
     "output_type": "display_data"
    },
    {
     "data": {
      "application/vnd.jupyter.widget-view+json": {
       "model_id": "027c0fa580bf4322b7380d8dda3374b7",
       "version_major": 2,
       "version_minor": 0
      },
      "text/plain": [
       "GW History:   0%|          | 0/799 [00:00<?, ?it/s]"
      ]
     },
     "metadata": {},
     "output_type": "display_data"
    },
    {
     "data": {
      "application/vnd.jupyter.widget-view+json": {
       "model_id": "f59efd2c3ec045dabbbbfd30b0ceb9ac",
       "version_major": 2,
       "version_minor": 0
      },
      "text/plain": [
       "Building master dataframe:   0%|          | 0/799 [00:00<?, ?it/s]"
      ]
     },
     "metadata": {},
     "output_type": "display_data"
    },
    {
     "name": "stdout",
     "output_type": "stream",
     "text": [
      "Exported total_summary!\n"
     ]
    }
   ],
   "source": [
    "from src.functions.api_operations import FPLAPIParser\n",
    "from src.functions.raw_data_compiler import RawDataCompiler\n",
    "from src.functions.data_processing import DataAnalytics\n",
    "from src.functions.helper_fns import GeneralHelperFns\n",
    "\n",
    "api_ops = FPLAPIParser()\n",
    "data_compiler = RawDataCompiler(api_ops)\n",
    "helper_fns = GeneralHelperFns(api_ops, data_compiler)\n",
    "data_analytics = DataAnalytics(api_ops, data_compiler, helper_fns)"
   ]
  },
  {
   "cell_type": "code",
   "execution_count": 15,
   "metadata": {},
   "outputs": [
    {
     "name": "stdout",
     "output_type": "stream",
     "text": [
      "1\n",
      "[2]\n"
     ]
    }
   ],
   "source": [
    "import pandas as pd\n",
    "df = pd.DataFrame({'a':[1,[2]],'b':[4,[5]]})\n",
    "for x,y in df.iterrows():\n",
    "    asd = getattr(y,'a')\n",
    "    print(asd)"
   ]
  }
 ],
 "metadata": {
  "kernelspec": {
   "display_name": "Python 3 (ipykernel)",
   "language": "python",
   "name": "python3"
  },
  "language_info": {
   "codemirror_mode": {
    "name": "ipython",
    "version": 3
   },
   "file_extension": ".py",
   "mimetype": "text/x-python",
   "name": "python",
   "nbconvert_exporter": "python",
   "pygments_lexer": "ipython3",
   "version": "3.7.1"
  }
 },
 "nbformat": 4,
 "nbformat_minor": 2
}
