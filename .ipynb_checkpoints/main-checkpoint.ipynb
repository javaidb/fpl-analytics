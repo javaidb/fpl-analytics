{
 "cells": [
  {
   "cell_type": "code",
   "execution_count": 1,
   "metadata": {},
   "outputs": [
    {
     "ename": "ImportError",
     "evalue": "cannot import name 'fetch_data_from_api' from 'src.functions.fpl_api_operations' (C:\\Users\\Javaid Baksh\\Desktop\\FPL\\FPL_modules\\FPL-Stats\\src\\functions\\fpl_api_operations.py)",
     "output_type": "error",
     "traceback": [
      "\u001b[1;31m---------------------------------------------------------------------------\u001b[0m",
      "\u001b[1;31mImportError\u001b[0m                               Traceback (most recent call last)",
      "\u001b[1;32mC:\\conda_tmp\\ipykernel_10548\\2118582309.py\u001b[0m in \u001b[0;36m<module>\u001b[1;34m\u001b[0m\n\u001b[0;32m      1\u001b[0m \u001b[1;31m# In your Jupyter notebook\u001b[0m\u001b[1;33m\u001b[0m\u001b[1;33m\u001b[0m\u001b[1;33m\u001b[0m\u001b[0m\n\u001b[1;32m----> 2\u001b[1;33m \u001b[1;32mfrom\u001b[0m \u001b[0msrc\u001b[0m\u001b[1;33m.\u001b[0m\u001b[0mfunctions\u001b[0m\u001b[1;33m.\u001b[0m\u001b[0mfpl_api_operations\u001b[0m \u001b[1;32mimport\u001b[0m \u001b[0mfetch_data_from_api\u001b[0m\u001b[1;33m\u001b[0m\u001b[1;33m\u001b[0m\u001b[0m\n\u001b[0m\u001b[0;32m      3\u001b[0m \u001b[1;32mfrom\u001b[0m \u001b[0mconfig\u001b[0m \u001b[1;32mimport\u001b[0m \u001b[0mconfig\u001b[0m\u001b[1;33m\u001b[0m\u001b[1;33m\u001b[0m\u001b[0m\n\u001b[0;32m      4\u001b[0m \u001b[1;31m# from functions.data_transformations import transform_data\u001b[0m\u001b[1;33m\u001b[0m\u001b[1;33m\u001b[0m\u001b[1;33m\u001b[0m\u001b[0m\n\u001b[0;32m      5\u001b[0m \u001b[1;31m# from functions.helper_functions import calculate_mean, format_date\u001b[0m\u001b[1;33m\u001b[0m\u001b[1;33m\u001b[0m\u001b[1;33m\u001b[0m\u001b[0m\n",
      "\u001b[1;31mImportError\u001b[0m: cannot import name 'fetch_data_from_api' from 'src.functions.fpl_api_operations' (C:\\Users\\Javaid Baksh\\Desktop\\FPL\\FPL_modules\\FPL-Stats\\src\\functions\\fpl_api_operations.py)"
     ]
    }
   ],
   "source": [
    "# In your Jupyter notebook\n",
    "from src.functions.fpl_api_operations import fetch_data_from_api\n",
    "from config import config\n",
    "# from functions.data_transformations import transform_data\n",
    "# from functions.helper_functions import calculate_mean, format_date\n",
    "# from functions.notebook_utilities import display_colored_table\n",
    "\n",
    "# Fetch data from the API\n",
    "# api_url = 'https://example.com/api/data'\n",
    "raw_data = fetch_data_from_api(config.BASE_URL)\n",
    "\n",
    "# if raw_data is not None:\n",
    "#     # Perform data transformations\n",
    "#     transformed_data = transform_data(raw_data)\n",
    "    \n",
    "#     # Use the transformed data as needed\n",
    "#     # ...\n",
    "    \n",
    "#     # Example of using helper functions\n",
    "#     mean_value = calculate_mean([1, 2, 3, 4, 5])\n",
    "#     formatted_date = format_date(datetime.now())\n",
    "    \n",
    "#     # Display a colored table\n",
    "#     display_colored_table(transformed_data)\n"
   ]
  },
  {
   "cell_type": "code",
   "execution_count": null,
   "metadata": {},
   "outputs": [],
   "source": []
  }
 ],
 "metadata": {
  "kernelspec": {
   "display_name": "Python 3 (ipykernel)",
   "language": "python",
   "name": "python3"
  },
  "language_info": {
   "codemirror_mode": {
    "name": "ipython",
    "version": 3
   },
   "file_extension": ".py",
   "mimetype": "text/x-python",
   "name": "python",
   "nbconvert_exporter": "python",
   "pygments_lexer": "ipython3",
   "version": "3.7.1"
  }
 },
 "nbformat": 4,
 "nbformat_minor": 2
}
