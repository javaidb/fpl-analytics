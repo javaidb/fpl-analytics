{
 "cells": [
  {
   "cell_type": "code",
   "execution_count": null,
   "metadata": {
    "scrolled": true
   },
   "outputs": [],
   "source": [
    "from IPython.core.display import display, HTML\n",
    "display(HTML(\"<style>.container { width:100% !important; }</style>\"))"
   ]
  },
  {
   "cell_type": "code",
   "execution_count": null,
   "metadata": {},
   "outputs": [],
   "source": [
    "import sys\n",
    "import os\n",
    "sys.path.append(os.path.abspath('..'))\n",
    "from src.functions.api_operations import FPLAPIParser\n",
    "from src.functions.raw_data_compiler import RawDataCompiler\n",
    "from src.functions.data_processing import DataAnalytics\n",
    "from src.functions.helper_fns import GeneralHelperFns\n",
    "from src.functions.notebook_operations import VisualizationOperations\n",
    "\n",
    "api_ops = FPLAPIParser()\n",
    "data_compiler = RawDataCompiler(api_ops)\n",
    "helper_fns = GeneralHelperFns(api_ops, data_compiler)"
   ]
  },
  {
   "cell_type": "code",
   "execution_count": null,
   "metadata": {
    "scrolled": true
   },
   "outputs": [],
   "source": [
    "data_analytics = DataAnalytics(api_ops, data_compiler, helper_fns)"
   ]
  },
  {
   "cell_type": "code",
   "execution_count": null,
   "metadata": {
    "scrolled": true
   },
   "outputs": [],
   "source": [
    "visualization_specs = VisualizationOperations(api_ops, data_compiler, data_analytics, helper_fns)"
   ]
  },
  {
   "cell_type": "code",
   "execution_count": null,
   "metadata": {
    "scrolled": false
   },
   "outputs": [],
   "source": [
    "visualization_specs.display_tabular_summary()"
   ]
  },
  {
   "cell_type": "code",
   "execution_count": null,
   "metadata": {},
   "outputs": [],
   "source": [
    "visualization_specs.player_summary(dataset='FPL15')"
   ]
  },
  {
   "cell_type": "code",
   "execution_count": null,
   "metadata": {},
   "outputs": [],
   "source": [
    "beacon_ids =  api_ops.config_data['fpl_id_data']['beacon_team_ids']\n",
    "helper_fns.team_visualizer(data_analytics.beacon_dict[str(api_ops.latest_gw - 1)][str(beacon_ids[0])]['team'])"
   ]
  },
  {
   "cell_type": "code",
   "execution_count": null,
   "metadata": {},
   "outputs": [],
   "source": [
    "obj = api_ops\n",
    "class_vars = {key: value for key, value in obj.__class__.__dict__.items() if not key.startswith('__') and not callable(value)}\n",
    "\n",
    "print(\"Class variables:\", class_vars)"
   ]
  },
  {
   "cell_type": "code",
   "execution_count": null,
   "metadata": {
    "scrolled": true
   },
   "outputs": [],
   "source": [
    "# data_analytics.__dict__.keys()"
   ]
  },
  {
   "cell_type": "code",
   "execution_count": null,
   "metadata": {},
   "outputs": [],
   "source": [
    "from src.functions.helper_fns import UnderStatHelperFns\n",
    "from src.functions.understat_operations import UnderstatProcessing"
   ]
  },
  {
   "cell_type": "code",
   "execution_count": null,
   "metadata": {},
   "outputs": [],
   "source": [
    "understat_helper_fns = UnderStatHelperFns(api_ops, data_compiler)\n",
    "understat_ops = UnderstatProcessing(api_ops, data_analytics, helper_fns, understat_helper_fns)"
   ]
  },
  {
   "cell_type": "code",
   "execution_count": null,
   "metadata": {},
   "outputs": [],
   "source": [
    "understat_ops.tabulate_ratings_table()"
   ]
  }
 ],
 "metadata": {
  "kernelspec": {
   "display_name": "venv",
   "language": "python",
   "name": "venv"
  },
  "language_info": {
   "codemirror_mode": {
    "name": "ipython",
    "version": 3
   },
   "file_extension": ".py",
   "mimetype": "text/x-python",
   "name": "python",
   "nbconvert_exporter": "python",
   "pygments_lexer": "ipython3",
   "version": "3.7.1"
  }
 },
 "nbformat": 4,
 "nbformat_minor": 2
}
