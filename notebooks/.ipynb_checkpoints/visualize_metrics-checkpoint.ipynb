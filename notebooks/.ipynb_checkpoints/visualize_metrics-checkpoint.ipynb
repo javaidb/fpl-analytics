{
 "cells": [
  {
   "cell_type": "code",
   "execution_count": null,
   "metadata": {},
   "outputs": [],
   "source": [
    "from IPython.core.display import display, HTML\n",
    "display(HTML(\"<style>.container { width:100% !important; }</style>\"))\n",
    "import pandas as pd\n",
    "pd.set_option('display.max_columns', None)"
   ]
  },
  {
   "cell_type": "markdown",
   "metadata": {
    "scrolled": true
   },
   "source": [
    "<center>\n",
    "    <img src=\"https://logodownload.org/wp-content/uploads/2016/03/premier-league-5.png\" width=\"75\" alt=\"cognitiveclass.ai logo\">\n",
    "</center>\n",
    "\n",
    "# Premier League API Retrieval, Data Collection and Visualization: Create & Visualize FPL Performance Metrics\n",
    "\n",
    "<!-- Estimated time needed: **15** minutes -->\n",
    "\n",
    "## Functions of notebook\n",
    "\n",
    "This notebook was built to:\n",
    "\n",
    "*   Retrieve data from Premier League API\n",
    "-   Create attributes with fetched data to effectively collect and compile data.\n",
    "*   Query data from attributres/functions to build visualization and statistics\n"
   ]
  },
  {
   "cell_type": "code",
   "execution_count": null,
   "metadata": {
    "scrolled": true
   },
   "outputs": [],
   "source": [
    "import sys\n",
    "import os\n",
    "sys.path.append(os.path.abspath('..'))\n",
    "from src.functions.api_operations import FPLAPIParser, UnderstatAPIParser\n",
    "from src.functions.raw_data_compiler import RawDataCompiler\n",
    "from src.functions.data_processing import DataAnalytics\n",
    "from src.functions.helper_fns import GeneralHelperFns\n",
    "from src.functions.notebook_operations import VisualizationOperations\n",
    "\n",
    "api_ops = FPLAPIParser()\n",
    "data_compiler = RawDataCompiler(api_ops)\n",
    "helper_fns = GeneralHelperFns(api_ops, data_compiler)\n",
    "# understat_ops = UnderstatAPIParser(api_ops, helper_fns)"
   ]
  },
  {
   "cell_type": "code",
   "execution_count": null,
   "metadata": {
    "scrolled": false
   },
   "outputs": [],
   "source": [
    "data_analytics = DataAnalytics(api_ops, data_compiler, helper_fns)"
   ]
  },
  {
   "cell_type": "code",
   "execution_count": null,
   "metadata": {
    "scrolled": true
   },
   "outputs": [],
   "source": [
    "visualization_specs = VisualizationOperations(api_ops, data_compiler, data_analytics, helper_fns)"
   ]
  },
  {
   "cell_type": "markdown",
   "metadata": {},
   "source": [
    "---"
   ]
  },
  {
   "cell_type": "markdown",
   "metadata": {},
   "source": [
    "## Performance Spread"
   ]
  },
  {
   "cell_type": "code",
   "execution_count": null,
   "metadata": {
    "scrolled": false
   },
   "outputs": [],
   "source": [
    "full_sum = visualization_specs.display_tabular_summary()"
   ]
  },
  {
   "cell_type": "code",
   "execution_count": null,
   "metadata": {},
   "outputs": [],
   "source": [
    "fpl_sum = visualization_specs.player_summary(list(data_analytics.personal_team_data.keys()))"
   ]
  },
  {
   "cell_type": "code",
   "execution_count": null,
   "metadata": {},
   "outputs": [],
   "source": [
    "names = ['solanke', 'hojlund', 'salah', 'madison', 'baily']\n",
    "\n",
    "values = [helper_fns.find_best_match(name) for name in names]\n",
    "values += list(data_analytics.personal_team_data.keys())\n",
    "custom_sum = visualization_specs.player_summary(values)"
   ]
  },
  {
   "cell_type": "code",
   "execution_count": null,
   "metadata": {},
   "outputs": [],
   "source": [
    "# import numpy as np\n",
    "\n",
    "# # Example data (points categories across 6 weeks for 5 players)\n",
    "# data = {\n",
    "#     'Player1': [0, 1, 1, 2, 1, 2],\n",
    "#     'Player2': [0, 1, 1, 0, 1, 1],\n",
    "#     'Player3': [2, 1, 2, 2, 2, 2],\n",
    "#     'Player4': [0, 0, 1, 0, 0, 1],\n",
    "#     'Player5': [1, 1, 1, 1, 0, 1],\n",
    "#     'Player6': [0, 0, 0, 0, 0, 0],\n",
    "#     'Player7': [2, 2, 2, 2, 2, 2],\n",
    "# }\n",
    "\n",
    "# # Define the number of time periods to consider\n",
    "# time_periods = [6, 4, 2]\n",
    "\n",
    "# # Calculate mean score for each player for each time period\n",
    "# player_mean_scores = {}\n",
    "# for player, categories in data.items():\n",
    "#     mean_scores = [np.mean(categories[-period:]) for period in time_periods]\n",
    "#     player_mean_scores[player] = mean_scores\n",
    "\n",
    "# # Calculate the weighted average score for each player\n",
    "# weights = [0.4, 0.3, 0.3]  # Weights for each time period\n",
    "# player_ratings = {}\n",
    "# for player, mean_scores in player_mean_scores.items():\n",
    "#     weighted_average = np.average(mean_scores, weights=weights)\n",
    "#     player_ratings[player] = weighted_average\n",
    "\n",
    "# # Display the player ratings\n",
    "# for player, rating in player_ratings.items():\n",
    "#     print(f'{player}: {rating}')\n"
   ]
  },
  {
   "cell_type": "markdown",
   "metadata": {},
   "source": [
    "---"
   ]
  },
  {
   "cell_type": "markdown",
   "metadata": {},
   "source": [
    "## Custom Calls"
   ]
  },
  {
   "cell_type": "code",
   "execution_count": null,
   "metadata": {},
   "outputs": [],
   "source": [
    "beacon_ids =  api_ops.config_data['fpl_id_data']['beacon_team_ids']\n",
    "helper_fns.team_visualizer(data_analytics.beacon_dict[str(api_ops.latest_gw - 1)][str(beacon_ids[0])]['team'])"
   ]
  },
  {
   "cell_type": "code",
   "execution_count": null,
   "metadata": {},
   "outputs": [],
   "source": [
    "api_ops.config_data['fpl_id_data']"
   ]
  },
  {
   "cell_type": "code",
   "execution_count": null,
   "metadata": {},
   "outputs": [],
   "source": [
    "# api_ops.fetch_data_from_api('entry/4305040/')"
   ]
  },
  {
   "cell_type": "code",
   "execution_count": null,
   "metadata": {
    "scrolled": true
   },
   "outputs": [],
   "source": [
    "data_analytics.__dict__.keys()"
   ]
  },
  {
   "cell_type": "markdown",
   "metadata": {},
   "source": [
    "---"
   ]
  }
 ],
 "metadata": {
  "kernelspec": {
   "display_name": "venv",
   "language": "python",
   "name": "venv"
  },
  "language_info": {
   "codemirror_mode": {
    "name": "ipython",
    "version": 3
   },
   "file_extension": ".py",
   "mimetype": "text/x-python",
   "name": "python",
   "nbconvert_exporter": "python",
   "pygments_lexer": "ipython3",
   "version": "3.7.1"
  }
 },
 "nbformat": 4,
 "nbformat_minor": 2
}
