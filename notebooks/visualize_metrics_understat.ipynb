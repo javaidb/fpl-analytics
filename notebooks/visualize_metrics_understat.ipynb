{
 "cells": [
  {
   "cell_type": "markdown",
   "id": "a72ae945",
   "metadata": {},
   "source": [
    "\n",
    "<center>\n",
    "    <img src=\"https://logodownload.org/wp-content/uploads/2016/03/premier-league-5.png\" width=\"75\" alt=\"cognitiveclass.ai logo\">\n",
    "</center>\n",
    "\n",
    "# **Premier League + Understat API Retrieval, Data Collection and Visualization: Building, Testing & Assessing Neural Nets**\n",
    "\n",
    "<!-- Estimated time needed: **15** minutes -->\n",
    "\n",
    "## Functions of notebook\n",
    "\n",
    "This notebook was built to:\n",
    "\n",
    "*   Retrieve data from Premier League API + Understat API\n",
    "-   Create attributes with fetched data to effectively collect and compile data.\n",
    "*   Query data from attributes/functions to build consolidated dataframes\n",
    "-   Use consolidated data to visualize performance metrics for teams + players"
   ]
  },
  {
   "cell_type": "markdown",
   "id": "f10f457a",
   "metadata": {
    "tags": []
   },
   "source": [
    "## **Raw Data/Function Import**\n",
    "We will first import data from built framework"
   ]
  },
  {
   "cell_type": "markdown",
   "id": "da2c0208-11ae-474b-8057-a3aa90b10768",
   "metadata": {},
   "source": [
    "### Imports and Initialization"
   ]
  },
  {
   "cell_type": "code",
   "execution_count": null,
   "id": "fd3a68df-4fe3-4252-a75b-966e1786d11d",
   "metadata": {},
   "outputs": [],
   "source": [
    "import sys\n",
    "import os\n",
    "sys.path.append(os.path.abspath('..'))"
   ]
  },
  {
   "cell_type": "code",
   "execution_count": null,
   "id": "3f8b8c85",
   "metadata": {
    "tags": []
   },
   "outputs": [],
   "source": [
    "from datetime import datetime\n",
    "from copy import deepcopy\n",
    "import pandas as pd\n",
    "import numpy as np\n",
    "from tqdm.notebook import tqdm_notebook"
   ]
  },
  {
   "cell_type": "code",
   "execution_count": null,
   "id": "5c5ba390-8be2-4be1-8a47-8165a7559db9",
   "metadata": {},
   "outputs": [],
   "source": [
    "from src.functions.data_analysis import FPLDataAnalytics, UnderstatDataAnalytics\n",
    "from src.functions.data_visualization import DashboardVisualizer\n",
    "\n",
    "from src.functions.notebook_utils import create_search_widget"
   ]
  },
  {
   "cell_type": "markdown",
   "id": "57389015-770c-4c7e-89f4-b13fed4e7dde",
   "metadata": {},
   "source": [
    "#### FPL Instance"
   ]
  },
  {
   "cell_type": "code",
   "execution_count": null,
   "id": "9dc073d8",
   "metadata": {
    "tags": []
   },
   "outputs": [],
   "source": [
    "fpl_data_attributes = FPLDataAnalytics()"
   ]
  },
  {
   "cell_type": "code",
   "execution_count": null,
   "id": "2116d196-9dda-43b2-8158-a7d41da3b98f",
   "metadata": {},
   "outputs": [],
   "source": [
    "create_search_widget(list(fpl_data_attributes.helper_fns.__dict__.keys()))"
   ]
  },
  {
   "cell_type": "markdown",
   "id": "cfec43c9-917b-432f-8324-e38eafb531dd",
   "metadata": {},
   "source": [
    "#### Understat Instance"
   ]
  },
  {
   "cell_type": "code",
   "execution_count": null,
   "id": "86e3e77e-1742-47a1-a5d9-df60404bca71",
   "metadata": {},
   "outputs": [],
   "source": [
    "understat_data_ops = UnderstatDataAnalytics(fpl_data_attributes.helper_fns, update_bool = False)"
   ]
  },
  {
   "cell_type": "code",
   "execution_count": null,
   "id": "2b72e820-d067-4cfe-8376-fa00bdf6a444",
   "metadata": {},
   "outputs": [],
   "source": [
    "create_search_widget(list(understat_data_ops.helper_fns.__dict__.keys()))"
   ]
  },
  {
   "cell_type": "markdown",
   "id": "6dc438b9-8aea-498e-9321-84703fe569dd",
   "metadata": {
    "tags": []
   },
   "source": [
    "<h4> Misc testing functions </h4>"
   ]
  },
  {
   "cell_type": "code",
   "execution_count": null,
   "id": "7df3a88e-819e-44a9-807e-5604305c5f0d",
   "metadata": {},
   "outputs": [],
   "source": [
    "# next(x for x in understat_data_ops.helper_fns.understat_to_fpl_player_data if \"neto\" in x['understat']['name'].lower())"
   ]
  },
  {
   "cell_type": "markdown",
   "id": "19fadbfa-96c9-4e76-9437-f92d457d1834",
   "metadata": {},
   "source": [
    "### Interactive dashboard for team performance"
   ]
  },
  {
   "cell_type": "code",
   "execution_count": null,
   "id": "da4a049b-2c55-4790-adc9-e38e4783ef7a",
   "metadata": {},
   "outputs": [],
   "source": [
    "PLDashboard = DashboardVisualizer(fpl_data_attributes.helper_fns, understat_data_ops.helper_fns)"
   ]
  },
  {
   "cell_type": "code",
   "execution_count": null,
   "id": "91acee9e-4821-4bbe-ac00-3e81aac7dbbd",
   "metadata": {},
   "outputs": [],
   "source": [
    "PLDashboard.generate_dash(\n",
    "    data = understat_data_ops.helper_fns.understat_team_data_raw,\n",
    "        dash_settings={\n",
    "           'options': 'multiple',\n",
    "           'shared_key_x_axis': 'date'\n",
    "        },\n",
    "    port = 8051\n",
    ")"
   ]
  },
  {
   "cell_type": "code",
   "execution_count": null,
   "id": "1c946549-2298-4a43-8cbd-90ddfd74ffa9",
   "metadata": {},
   "outputs": [],
   "source": []
  }
 ],
 "metadata": {
  "kernelspec": {
   "display_name": "Python 3.11 (FPL)",
   "language": "python",
   "name": ".venv_fpl"
  },
  "language_info": {
   "codemirror_mode": {
    "name": "ipython",
    "version": 3
   },
   "file_extension": ".py",
   "mimetype": "text/x-python",
   "name": "python",
   "nbconvert_exporter": "python",
   "pygments_lexer": "ipython3",
   "version": "3.11.7"
  }
 },
 "nbformat": 4,
 "nbformat_minor": 5
}
