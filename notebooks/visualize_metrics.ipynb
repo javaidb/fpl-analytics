{
 "cells": [
  {
   "cell_type": "code",
   "execution_count": null,
   "metadata": {},
   "outputs": [],
   "source": [
    "from IPython.core.display import display, HTML\n",
    "display(HTML(\"<style>.container { width:100% !important; }</style>\"))\n",
    "import pandas as pd\n",
    "pd.set_option('display.max_columns', None)"
   ]
  },
  {
   "cell_type": "markdown",
   "metadata": {},
   "source": [
    "<center>\n",
    "    <img src=\"https://logodownload.org/wp-content/uploads/2016/03/premier-league-5.png\" width=\"75\" alt=\"cognitiveclass.ai logo\">\n",
    "</center>\n",
    "\n",
    "# Premier League API Retrieval, Data Collection and Visualization: Create & Visualize FPL Performance Metrics\n",
    "\n",
    "<!-- Estimated time needed: **15** minutes -->\n",
    "\n",
    "## Functions of notebook\n",
    "\n",
    "This notebook was built to:\n",
    "\n",
    "*   Retrieve data from Premier League API\n",
    "-   Create attributes with fetched data to effectively collect and compile data.\n",
    "*   Query data from attributres/functions to build visualization and statistics\n"
   ]
  },
  {
   "cell_type": "code",
   "execution_count": null,
   "metadata": {
    "scrolled": true
   },
   "outputs": [],
   "source": [
    "import sys\n",
    "import os\n",
    "sys.path.append(os.path.abspath('..'))\n",
    "from src.functions.data_grabber import DataGrabberFPL\n",
    "from src.functions.data_analysis import DataAnalytics\n",
    "from src.functions.data_visualization import VisualizationOperations\n",
    "\n",
    "fpl_data_attributes = DataGrabberFPL()\n",
    "data_analytics = DataAnalytics(fpl_data_attributes)"
   ]
  },
  {
   "cell_type": "code",
   "execution_count": null,
   "metadata": {
    "scrolled": true
   },
   "outputs": [],
   "source": [
    "data_visualizer = VisualizationOperations(fpl_data_attributes, data_analytics)"
   ]
  },
  {
   "cell_type": "markdown",
   "metadata": {},
   "source": [
    "---"
   ]
  },
  {
   "cell_type": "markdown",
   "metadata": {},
   "source": [
    "### League Analysis"
   ]
  },
  {
   "cell_type": "code",
   "execution_count": null,
   "metadata": {},
   "outputs": [],
   "source": [
    "league_rank_data = fpl_data_attributes.helper_fns.get_rank_data(782655)"
   ]
  },
  {
   "cell_type": "code",
   "execution_count": null,
   "metadata": {
    "tags": []
   },
   "outputs": [],
   "source": [
    "# league_rank_data"
   ]
  },
  {
   "cell_type": "markdown",
   "metadata": {},
   "source": [
    "---"
   ]
  },
  {
   "cell_type": "markdown",
   "metadata": {},
   "source": [
    "## Performance Spread"
   ]
  },
  {
   "cell_type": "code",
   "execution_count": null,
   "metadata": {},
   "outputs": [],
   "source": [
    "full_sum = data_visualizer.display_tabular_summary()"
   ]
  },
  {
   "cell_type": "code",
   "execution_count": null,
   "metadata": {},
   "outputs": [],
   "source": [
    "fpl_sum = data_visualizer.build_player_tabular_summary(list(data_analytics.personal_team_data.keys()))"
   ]
  },
  {
   "cell_type": "code",
   "execution_count": null,
   "metadata": {},
   "outputs": [],
   "source": [
    "names = ['solanke', 'mateta', 'eze', 'henderson', 'saka', 'havertz']\n",
    "\n",
    "values = [fpl_data_attributes.helper_fns.find_best_match(name) for name in names]\n",
    "values += list(data_analytics.personal_team_data.keys())\n",
    "custom_sum = data_visualizer.build_player_tabular_summary(values)"
   ]
  },
  {
   "cell_type": "markdown",
   "metadata": {},
   "source": [
    "---"
   ]
  },
  {
   "cell_type": "markdown",
   "metadata": {
    "tags": []
   },
   "source": [
    "## Exploratory Data Analysis"
   ]
  },
  {
   "cell_type": "code",
   "execution_count": null,
   "metadata": {},
   "outputs": [],
   "source": [
    "from copy import deepcopy\n",
    "import pandas as pd\n",
    "import matplotlib.pyplot as plt\n",
    "import matplotlib.patches as patches"
   ]
  },
  {
   "cell_type": "code",
   "execution_count": null,
   "metadata": {},
   "outputs": [],
   "source": [
    "latest_data_from_fpl = deepcopy(fpl_data_attributes.master_summary)"
   ]
  },
  {
   "cell_type": "markdown",
   "metadata": {
    "tags": []
   },
   "source": [
    "### Box Plot Visualization"
   ]
  },
  {
   "cell_type": "code",
   "execution_count": null,
   "metadata": {},
   "outputs": [],
   "source": [
    "def generate_zipped_params(param_list, reference_dict):\n",
    "    parsed_data = [{param: data[param] for param in param_list} for player_id, data in reference_dict.items()]\n",
    "    result = []\n",
    "    keys = list(parsed_data[0].keys())\n",
    "    for d in parsed_data:\n",
    "        for i in range(len(d[keys[0]])):\n",
    "            if all(d[key][i][0] == d[keys[0]][i][0] for key in d.keys()):\n",
    "                result.append(tuple(d[key][i][1] for key in d.keys()))\n",
    "    return result\n",
    "\n",
    "def generate_box_plot_for_params(y_param, x_param, data):\n",
    "    \n",
    "    matched_tuples = generate_zipped_params([y_param,x_param], data)\n",
    "    \n",
    "    reference_df = pd.DataFrame(matched_tuples, columns=[y_param, x_param])\n",
    "    reference_df = reference_df.loc[reference_df[x_param] > 0]\n",
    "    \n",
    "    grouped = reference_df.groupby(x_param)[y_param].apply(list)\n",
    "\n",
    "    # Plotting\n",
    "    plt.figure(figsize=(20, 6))\n",
    "    plt.boxplot(grouped.values)\n",
    "    plt.xticks(range(1, len(grouped) + 1), grouped.index)\n",
    "    plt.xlabel(x_param)\n",
    "    plt.ylabel(y_param)\n",
    "    plt.title(f\"Box plots for every '{x_param}' value against attained '{y_param}'\")\n",
    "\n",
    "    # Add transparent rectangles\n",
    "    if x_param == \"total_points\":\n",
    "        plt.gca().add_patch(patches.Rectangle((0.5, plt.ylim()[0]), 3, plt.ylim()[1]-plt.ylim()[0],\n",
    "                                              alpha=0.3, color='red'))\n",
    "        plt.gca().add_patch(patches.Rectangle((3.5, plt.ylim()[0]), 2, plt.ylim()[1]-plt.ylim()[0],\n",
    "                                              alpha=0.3, color='yellow'))\n",
    "        plt.gca().add_patch(patches.Rectangle((5.5, plt.ylim()[0]), 4, plt.ylim()[1]-plt.ylim()[0],\n",
    "                                              alpha=0.3, color='green'))\n",
    "        plt.gca().add_patch(patches.Rectangle((9.5, plt.ylim()[0]), 22, plt.ylim()[1]-plt.ylim()[0],\n",
    "                                             alpha=0.3, color='blue'))\n",
    "    plt.show()"
   ]
  },
  {
   "cell_type": "code",
   "execution_count": null,
   "metadata": {},
   "outputs": [],
   "source": [
    "latest_data_from_fpl[1].keys()"
   ]
  },
  {
   "cell_type": "code",
   "execution_count": null,
   "metadata": {},
   "outputs": [],
   "source": [
    "generate_box_plot_for_params(\n",
    "    y_param = 'bps', \n",
    "    x_param = 'total_points',\n",
    "    data = latest_data_from_fpl\n",
    ")"
   ]
  },
  {
   "cell_type": "markdown",
   "metadata": {},
   "source": [
    "---"
   ]
  },
  {
   "cell_type": "code",
   "execution_count": null,
   "metadata": {},
   "outputs": [],
   "source": [
    "import numpy as np\n",
    "import matplotlib.pyplot as plt\n",
    "from scipy.optimize import curve_fit\n",
    "\n",
    "# Generate synthetic impedance data with two relaxation processes\n",
    "np.random.seed(0)\n",
    "frequencies = np.logspace(0, 4, 100)  # Frequency range\n",
    "Z_real = 10 + np.random.normal(0, 1, 100)  # Real part of impedance\n",
    "Z_imag = 5 + np.random.normal(0, 1, 100)  # Imaginary part of impedance\n",
    "Z = Z_real + 1j * Z_imag  # Complex impedance\n",
    "\n",
    "# Define the Laplace distribution function\n",
    "def laplace_dist(t, b, c):\n",
    "    return (1/(2*b)) * np.exp(-np.abs(t-c)/b)\n",
    "\n",
    "# Fit the Laplace distribution to the impedance data\n",
    "popt, pcov = curve_fit(laplace_dist, frequencies, np.abs(Z), p0=[1, 1])\n",
    "\n",
    "# Extract the parameters of the Laplace distribution\n",
    "b, c = popt\n",
    "\n",
    "# Plot the fitted distribution\n",
    "plt.figure()\n",
    "plt.scatter(frequencies, np.abs(Z), label='Impedance data')\n",
    "plt.plot(frequencies, laplace_dist(frequencies, b, c), label='Fitted Laplace distribution')\n",
    "plt.xscale('log')\n",
    "plt.xlabel('Frequency')\n",
    "plt.ylabel('Impedance Magnitude')\n",
    "plt.legend()\n",
    "plt.show()\n",
    "\n",
    "# Print the extracted parameters\n",
    "print(f'Scale parameter (b): {b}')\n",
    "print(f'Location parameter (c): {c}')\n"
   ]
  },
  {
   "cell_type": "code",
   "execution_count": null,
   "metadata": {},
   "outputs": [],
   "source": [
    "import numpy as np\n",
    "import matplotlib.pyplot as plt\n",
    "\n",
    "# Generate example input and output signals\n",
    "# Let's assume the signals are arrays of sinusoidal waves with some noise\n",
    "time = np.linspace(0, 1, 1000)\n",
    "frequency = 10  # Frequency of the sinusoidal wave\n",
    "amplitude = 1  # Amplitude of the sinusoidal wave\n",
    "input_signal = amplitude * np.sin(2 * np.pi * frequency * time) + np.random.normal(0, 0.1, len(time))\n",
    "output_signal = amplitude * np.sin(2 * np.pi * frequency * time + np.pi/4) + np.random.normal(0, 0.1, len(time))\n",
    "\n",
    "# Calculate FFT of input and output signals\n",
    "fft_input = np.fft.fft(input_signal)\n",
    "fft_output = np.fft.fft(output_signal)\n",
    "\n",
    "# Calculate complex impedance\n",
    "complex_impedance = fft_output / fft_input\n",
    "\n",
    "# Calculate magnitude of impedance\n",
    "magnitude_impedance = np.abs(complex_impedance)\n",
    "\n",
    "# Plot the magnitude of impedance (Bode plot)\n",
    "frequency_axis = np.fft.fftfreq(len(time), time[1] - time[0])\n",
    "plt.figure()\n",
    "plt.semilogx(frequency_axis[:len(frequency_axis)//2], magnitude_impedance[:len(frequency_axis)//2])\n",
    "plt.xlabel('Frequency (Hz)')\n",
    "plt.ylabel('Magnitude of Impedance')\n",
    "plt.title('Bode Plot')\n",
    "plt.grid(True)\n",
    "plt.show()\n"
   ]
  }
 ],
 "metadata": {
  "kernelspec": {
   "display_name": "venv",
   "language": "python",
   "name": "venv"
  },
  "language_info": {
   "codemirror_mode": {
    "name": "ipython",
    "version": 3
   },
   "file_extension": ".py",
   "mimetype": "text/x-python",
   "name": "python",
   "nbconvert_exporter": "python",
   "pygments_lexer": "ipython3",
   "version": "3.7.1"
  }
 },
 "nbformat": 4,
 "nbformat_minor": 4
}
