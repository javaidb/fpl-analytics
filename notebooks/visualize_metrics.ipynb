{
 "cells": [
  {
   "cell_type": "code",
   "execution_count": null,
   "metadata": {},
   "outputs": [],
   "source": [
    "from IPython.core.display import display, HTML\n",
    "display(HTML(\"<style>.container { width:100% !important; }</style>\"))\n",
    "import pandas as pd\n",
    "pd.set_option('display.max_columns', None)"
   ]
  },
  {
   "cell_type": "markdown",
   "metadata": {},
   "source": [
    "<center>\n",
    "    <img src=\"https://logodownload.org/wp-content/uploads/2016/03/premier-league-5.png\" width=\"75\" alt=\"cognitiveclass.ai logo\">\n",
    "</center>\n",
    "\n",
    "# Premier League API Retrieval, Data Collection and Visualization: Create & Visualize FPL Performance Metrics\n",
    "\n",
    "<!-- Estimated time needed: **15** minutes -->\n",
    "\n",
    "## Functions of notebook\n",
    "\n",
    "This notebook was built to:\n",
    "\n",
    "*   Retrieve data from Premier League API\n",
    "-   Create attributes with fetched data to effectively collect and compile data.\n",
    "*   Query data from attributres/functions to build visualization and statistics\n"
   ]
  },
  {
   "cell_type": "code",
   "execution_count": null,
   "metadata": {
    "tags": []
   },
   "outputs": [],
   "source": [
    "import sys\n",
    "import os\n",
    "sys.path.append(os.path.abspath('..'))\n",
    "from src.functions.data_analysis import FPLDataAnalytics\n",
    "from src.functions.data_visualization import NotebookDataVisualizer, FigureExporter\n",
    "from src.functions.notebook_utils import create_search_widget"
   ]
  },
  {
   "cell_type": "code",
   "execution_count": null,
   "metadata": {},
   "outputs": [],
   "source": [
    "fpl_data_attributes = FPLDataAnalytics()"
   ]
  },
  {
   "cell_type": "code",
   "execution_count": null,
   "metadata": {},
   "outputs": [],
   "source": [
    "create_search_widget(list(fpl_data_attributes.helper_fns.__dict__.keys()))"
   ]
  },
  {
   "cell_type": "code",
   "execution_count": null,
   "metadata": {},
   "outputs": [],
   "source": [
    "# FigureExporter(fpl_data_attributes)"
   ]
  },
  {
   "cell_type": "code",
   "execution_count": null,
   "metadata": {},
   "outputs": [],
   "source": [
    "data_vis_ops = NotebookDataVisualizer(fpl_data_attributes)"
   ]
  },
  {
   "cell_type": "markdown",
   "metadata": {},
   "source": [
    "---"
   ]
  },
  {
   "cell_type": "markdown",
   "metadata": {},
   "source": [
    "### League Analysis"
   ]
  },
  {
   "cell_type": "code",
   "execution_count": null,
   "metadata": {},
   "outputs": [],
   "source": [
    "# league_rank_data = fpl_data_attributes.helper_fns.get_rank_data(778049)"
   ]
  },
  {
   "cell_type": "code",
   "execution_count": null,
   "metadata": {
    "tags": []
   },
   "outputs": [],
   "source": [
    "# league_rank_data"
   ]
  },
  {
   "cell_type": "markdown",
   "metadata": {},
   "source": [
    "---"
   ]
  },
  {
   "cell_type": "markdown",
   "metadata": {},
   "source": [
    "## Performance Spread"
   ]
  },
  {
   "cell_type": "code",
   "execution_count": null,
   "metadata": {},
   "outputs": [],
   "source": [
    "full_sum = data_vis_ops.display_tabular_summary()"
   ]
  },
  {
   "cell_type": "code",
   "execution_count": null,
   "metadata": {},
   "outputs": [],
   "source": [
    "fpl_sum = data_vis_ops.build_player_tabular_summary(list(fpl_data_attributes.personal_team_data.keys()))"
   ]
  },
  {
   "cell_type": "code",
   "execution_count": null,
   "metadata": {},
   "outputs": [],
   "source": [
    "names = [\n",
    "    'sanchez',\n",
    "    'konate',\n",
    "    'konsa',\n",
    "    'van de ven',\n",
    "    'rogers',\n",
    "    'palmer',\n",
    "    'watkins'\n",
    "]\n",
    "values = [fpl_data_attributes.helper_fns.find_best_match(name) for name in names]\n",
    "values += list(fpl_data_attributes.personal_team_data.keys())\n",
    "custom_sum = data_vis_ops.build_player_tabular_summary(values)"
   ]
  },
  {
   "cell_type": "markdown",
   "metadata": {},
   "source": [
    "---"
   ]
  },
  {
   "cell_type": "markdown",
   "metadata": {
    "tags": []
   },
   "source": [
    "## Exploratory Data Analysis"
   ]
  },
  {
   "cell_type": "code",
   "execution_count": null,
   "metadata": {},
   "outputs": [],
   "source": [
    "from copy import deepcopy\n",
    "import pandas as pd\n",
    "import matplotlib.pyplot as plt\n",
    "import matplotlib.patches as patches"
   ]
  },
  {
   "cell_type": "code",
   "execution_count": null,
   "metadata": {},
   "outputs": [],
   "source": [
    "latest_data_from_fpl = deepcopy(fpl_data_attributes.helper_fns.master_summary)"
   ]
  },
  {
   "cell_type": "markdown",
   "metadata": {
    "tags": []
   },
   "source": [
    "### Box Plot Visualization"
   ]
  },
  {
   "cell_type": "code",
   "execution_count": null,
   "metadata": {},
   "outputs": [],
   "source": [
    "def generate_zipped_params(param_list, reference_dict):\n",
    "    parsed_data = [{param: data[param] for param in param_list} for player_id, data in reference_dict.items()]\n",
    "    result = []\n",
    "    keys = list(parsed_data[0].keys())\n",
    "    for d in parsed_data:\n",
    "        for i in range(len(d[keys[0]])):\n",
    "            if all(d[key][i][0] == d[keys[0]][i][0] for key in d.keys()):\n",
    "                result.append(tuple(d[key][i][1] for key in d.keys()))\n",
    "    return result\n",
    "\n",
    "def generate_box_plot_for_params(y_param, x_param, data):\n",
    "    \n",
    "    matched_tuples = generate_zipped_params([y_param,x_param], data)\n",
    "    \n",
    "    reference_df = pd.DataFrame(matched_tuples, columns=[y_param, x_param])\n",
    "    reference_df = reference_df.loc[reference_df[x_param] > 0]\n",
    "    \n",
    "    grouped = reference_df.groupby(x_param)[y_param].apply(list)\n",
    "\n",
    "    # Plotting\n",
    "    plt.figure(figsize=(20, 6))\n",
    "    plt.boxplot(grouped.values)\n",
    "    plt.xticks(range(1, len(grouped) + 1), grouped.index)\n",
    "    plt.xlabel(x_param)\n",
    "    plt.ylabel(y_param)\n",
    "    plt.title(f\"Box plots for every '{x_param}' value against attained '{y_param}'\")\n",
    "\n",
    "    # Add transparent rectangles\n",
    "    if x_param == \"total_points\":\n",
    "        plt.gca().add_patch(patches.Rectangle((0.5, plt.ylim()[0]), 3, plt.ylim()[1]-plt.ylim()[0],\n",
    "                                              alpha=0.3, color='red'))\n",
    "        plt.gca().add_patch(patches.Rectangle((3.5, plt.ylim()[0]), 2, plt.ylim()[1]-plt.ylim()[0],\n",
    "                                              alpha=0.3, color='yellow'))\n",
    "        plt.gca().add_patch(patches.Rectangle((5.5, plt.ylim()[0]), 4, plt.ylim()[1]-plt.ylim()[0],\n",
    "                                              alpha=0.3, color='green'))\n",
    "        plt.gca().add_patch(patches.Rectangle((9.5, plt.ylim()[0]), 22, plt.ylim()[1]-plt.ylim()[0],\n",
    "                                             alpha=0.3, color='blue'))\n",
    "    plt.show()"
   ]
  },
  {
   "cell_type": "code",
   "execution_count": null,
   "metadata": {},
   "outputs": [],
   "source": [
    "latest_data_from_fpl[1].keys()"
   ]
  },
  {
   "cell_type": "code",
   "execution_count": null,
   "metadata": {},
   "outputs": [],
   "source": [
    "generate_box_plot_for_params(\n",
    "    y_param = 'bps', \n",
    "    x_param = 'total_points',\n",
    "    data = latest_data_from_fpl\n",
    ")"
   ]
  },
  {
   "cell_type": "markdown",
   "metadata": {},
   "source": [
    "---"
   ]
  }
 ],
 "metadata": {
  "kernelspec": {
   "display_name": "venv",
   "language": "python",
   "name": "venv"
  },
  "language_info": {
   "codemirror_mode": {
    "name": "ipython",
    "version": 3
   },
   "file_extension": ".py",
   "mimetype": "text/x-python",
   "name": "python",
   "nbconvert_exporter": "python",
   "pygments_lexer": "ipython3",
   "version": "3.7.1"
  }
 },
 "nbformat": 4,
 "nbformat_minor": 4
}
